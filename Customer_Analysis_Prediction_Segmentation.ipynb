{
 "cells": [
  {
   "cell_type": "markdown",
   "id": "20f6439a-b4c9-4d18-ba6a-0308534889e5",
   "metadata": {},
   "source": [
    "# 🛍️ Customer Segmentation and Spending Behavior Analysis\n",
    "\n",
    "## 📘 Project Overview\n",
    "This project analyzes customer demographics and spending behavior using a dataset containing information about **CustomerID, Gender, Age, Annual Income (k$), and Spending Score (1–100)**.  \n",
    "The primary aim is to discover spending trends, identify customer segments, and develop predictive models that help businesses better understand and target their customers.\n",
    "\n",
    "Through a blend of **exploratory data analysis (EDA)**, **data visualization**, and **machine learning**, this project highlights how factors like income, age, and gender influence spending behavior — and how customers can be grouped into actionable market segments.\n",
    "\n",
    "---\n",
    "\n",
    "## 🎯 Objectives\n",
    "- Explore the relationships among **Age**, **Annual Income**, and **Spending Score**.  \n",
    "- Investigate whether **gender** influences spending behavior.  \n",
    "- Predict **Spending Score** using **Linear Regression**.  \n",
    "- Segment customers using **clustering algorithms** (e.g., K-Means, Hierarchical Clustering).  \n",
    "- Derive actionable insights that support **marketing strategies** and **customer retention**.  \n",
    "- Provide visually appealing insights through **graphs and interactive visualizations**.  \n",
    "\n",
    "---\n",
    "\n",
    "## 🧰 Tech Stack\n",
    "- **Language:** Python  \n",
    "- **Libraries for EDA & Visualization:** Pandas, NumPy, Matplotlib, Seaborn  \n",
    "- **Machine Learning Framework:** Scikit-learn  \n",
    "- **Clustering & Dimensionality Reduction:** K-Means, Hierarchical Clustering, PCA  \n",
    "- **Development Environment:** Jupyter Notebook / Google Colab  \n",
    "\n",
    "---\n",
    "\n",
    "## 🔍 Exploratory Data Analysis (EDA)\n",
    "\n",
    "### 🔸 Key Questions Explored\n",
    "- What are the **distributions** of Age, Annual Income, and Spending Score?  \n",
    "- Do **men spend more** than women?  \n",
    "- Is **Annual Income correlated** with Spending Score?  \n",
    "- How does **Age** affect spending habits?  \n",
    "- Can we identify **distinct customer groups** based on income and spending?  \n",
    "- Additional explorations:  \n",
    "  - Which income range dominates the dataset?  \n",
    "  - Which gender category has higher representation among top spenders?  \n",
    "  - What’s the relationship between age and income?\n",
    "\n",
    "### 📊 Visualizations\n",
    "- **Histograms** for Age, Annual Income, and Spending Score.  \n",
    "- **Pairwise Scatter Plots** and **Scatter Matrix** for quick visual correlation checks.  \n",
    "- **Correlation Heatmap** to reveal relationships among numeric features.  \n",
    "- **Gender-wise Comparison Charts** (Boxplots, Barplots) for spending analysis.  \n",
    "- **Elbow Method** and **Silhouette Analysis** for optimal cluster selection.  \n",
    "- **Cluster Scatterplots** (2D visualizations) to display distinct customer segments.  \n",
    "\n",
    "---\n",
    "\n",
    "## 🤖 Machine Learning Approach\n",
    "\n",
    "### 1️⃣ Predictive Modeling — *Linear Regression*\n",
    "- **Objective:** Predict *Spending Score* from customer attributes such as Age, Gender, and Annual Income.  \n",
    "- **Model Used:** Linear Regression.  \n",
    "- **Metrics Evaluated:**  \n",
    "  - R² Score  \n",
    "  - Mean Absolute Error (MAE)  \n",
    "  - Root Mean Squared Error (RMSE)  \n",
    "\n",
    "### 2️⃣ Customer Segmentation — *Unsupervised Learning*\n",
    "- **Objective:** Identify clusters of customers with similar spending and income behavior.  \n",
    "- **Algorithms Used:**  \n",
    "  - K-Means Clustering  \n",
    "  - Hierarchical Clustering  \n",
    "- **Evaluation Metrics:**  \n",
    "  - Elbow Method (Inertia)  \n",
    "  - Silhouette Score  \n",
    "- **Dimensionality Reduction:** PCA (Principal Component Analysis) applied for better visualization and interpretability.  \n",
    "\n",
    "---\n",
    "\n",
    "## 📈 Results & Insights\n",
    "- **Income vs. Spending:** Customers with higher annual income generally tend to have higher spending scores — though not always strictly linear.  \n",
    "- **Gender Influence:** Female customers displayed slightly higher spending tendencies than males in this dataset.  \n",
    "- **Age Factor:** Younger adults often have higher spending scores, whereas older customers show more conservative spending patterns.  \n",
    "- **Customer Segments Identified:**  \n",
    "     - High-income, high-spending — Premium customers.\r",
    "     - Low-income, high-spending — Potential overspender.\n",
    "     - High-income, low-spending — Under-engaged premium group.    \n",
    "     - Average-income, average-spending — Majority group.\n",
    "     - Low-income, low-spending - Cost conscious\n",
    "\n",
    "---\n",
    "\n",
    "## ⚖️ Model Comparison\n",
    "\n",
    "| Model | Task | Key Metric | Summary |\n",
    "|-------|------|-------------|----------|\n",
    "| **Linear Regression** | Predict Spending Score | R² Score | Captures general spending trends, limited by behavioral non-linearity |\n",
    "| **K-Means Clustering** | Segment Customers | Silhouette Score | Clear 4–5 cluster structure identifying distinct customer types |\n",
    "| **Hierarchical Clustering** | Segment Customers | Dendrogram Analysis | Confirms similar segmentation patterns as K-Means |\n",
    "\n",
    "---\n",
    "\n",
    "## 💡 Conclusion\n",
    "This project demonstrates the use of **data science and machine learning** to understand and segment customers based on demographic and behavioral data.  \n",
    "By combining **EDA**, **predictive modeling**, and **unsupervised learning**, the analysis offers valuable insights into how customers differ by age, income, and spending patterns — insights that can drive smarter marketing and retention strategies.\n",
    "\n",
    "---\n",
    "\n",
    "## 🚀 Future Work\n",
    "- Experiment with advanced regression models (e.g., **Random Forest**, **Gradient Boosting**).  \n",
    "- Introduce more behavioral features (e.g., **shopping frequency**, **product category preferences**).  \n",
    "- Explore **DBSCAN** or **Gaussian Mixture Models** for non-linear cluster shapes.  \n",
    "- Build an **interactive dashboard** (using Streamlit or Power BI) for dynamic insight visualization.  \n",
    "\n",
    "---\n",
    "\n",
    "## 🧑‍💻 Author\n",
    "**Don Unobunjo**  \n",
    "Data Analytics | Machine Learning | AI Automation | Trainer \n",
    "📍 Lagos, Nigeria  \n",
    "🔗 [GitHub](https://github.com/donunobunjo) | [LinkedIn](https://www.linkedin.com/in/unobunjo-don)\n",
    "\n",
    "---\n",
    "\n",
    "⭐ *If you found this project insightful, don’t forget to star the repository!*  \n"
   ]
  },
  {
   "cell_type": "markdown",
   "id": "40707999-944c-488e-a9a1-8cd3810e4e09",
   "metadata": {},
   "source": [
    "--------------\n",
    "--------------\n",
    "--------------\n",
    "--------------\n",
    "--------------"
   ]
  },
  {
   "cell_type": "markdown",
   "id": "6dc97b72-6ee6-414f-b90b-9a1d62bbfd32",
   "metadata": {},
   "source": [
    "## EDA"
   ]
  },
  {
   "cell_type": "code",
   "execution_count": null,
   "id": "183d1fdd-a4cd-4d7e-8196-6ff396c90588",
   "metadata": {},
   "outputs": [],
   "source": [
    "import pandas as pd\n",
    "import seaborn as sns\n",
    "import matplotlib.pyplot as plt\n",
    "import numpy as np\n",
    "from sklearn.cluster import KMeans, AgglomerativeClustering\n",
    "from sklearn.model_selection import train_test_split\n",
    "from sklearn.linear_model import LinearRegression\n",
    "from sklearn.preprocessing import LabelEncoder, StandardScaler\n",
    "from sklearn.metrics import r2_score, mean_absolute_error, mean_squared_error, silhouette_score\n",
    "from sklearn.decomposition import PCA\n",
    "import scipy.cluster.hierarchy as sch\n",
    "import warnings\n",
    "warnings.filterwarnings('ignore')"
   ]
  },
  {
   "cell_type": "markdown",
   "id": "b9fc5983-6608-4e69-bb6c-c526989b77b7",
   "metadata": {},
   "source": [
    "### Basic Data Checks\n",
    "\n",
    "- Ensure no missing values.\n",
    "\n",
    "- Confirm data types: Gender (object), Age/Income/SpendingScore (numeric)."
   ]
  },
  {
   "cell_type": "code",
   "execution_count": null,
   "id": "a4dc941d-af7e-462e-a6df-8387fb8fd1d8",
   "metadata": {},
   "outputs": [],
   "source": [
    "df = pd.read_csv('Mall_Customers.csv')\n",
    "df.info()\n",
    "df.describe()\n",
    "df.isnull().sum()"
   ]
  },
  {
   "cell_type": "markdown",
   "id": "59fb9767-78b0-4ee0-bd7b-71b9e6276d20",
   "metadata": {},
   "source": [
    "-----"
   ]
  },
  {
   "cell_type": "markdown",
   "id": "d0c0c4f1-e2cd-45a9-bd13-5248b97e840f",
   "metadata": {},
   "source": [
    "### Univariate Analysis"
   ]
  },
  {
   "cell_type": "code",
   "execution_count": null,
   "id": "7a6d39bf-0e4b-47f8-b0e6-6485d6ee276b",
   "metadata": {},
   "outputs": [],
   "source": [
    "# Gender distribution\n",
    "sns.countplot(data=df, x='Gender')\n",
    "plt.title('Gender Distribution')\n",
    "plt.show()"
   ]
  },
  {
   "cell_type": "code",
   "execution_count": null,
   "id": "5478d20c-18c9-469a-b255-2fa5c58f966e",
   "metadata": {},
   "outputs": [],
   "source": [
    "# Age distribution\n",
    "sns.histplot(df['Age'], bins=15, kde=True)\n",
    "plt.title('Age Distribution')\n",
    "plt.show()"
   ]
  },
  {
   "cell_type": "code",
   "execution_count": null,
   "id": "6a2f8144-f15a-4570-819b-20b70144f5a3",
   "metadata": {},
   "outputs": [],
   "source": [
    "# Annual Income Distribution\n",
    "sns.histplot(df['Annual Income (k$)'], bins=10, kde=True)\n",
    "plt.title('Annual Income Distribution')\n",
    "plt.show()"
   ]
  },
  {
   "cell_type": "code",
   "execution_count": null,
   "id": "287de0ad-4964-4366-a92e-d427c7c44c73",
   "metadata": {},
   "outputs": [],
   "source": [
    "# Spending Score distribution\n",
    "sns.histplot(df['Spending Score (1-100)'], bins=10, kde=True)\n",
    "plt.title('Spending Score Distribution')\n",
    "plt.show()"
   ]
  },
  {
   "cell_type": "markdown",
   "id": "51937d86-f873-4894-a202-6371c2af270a",
   "metadata": {},
   "source": [
    "------"
   ]
  },
  {
   "cell_type": "markdown",
   "id": "1070e1a0-7451-448e-944a-84af0cb0cce6",
   "metadata": {},
   "source": [
    "### Bivariate Analysis"
   ]
  },
  {
   "cell_type": "code",
   "execution_count": null,
   "id": "3c899d48-21d4-4203-bfa4-32fcc5178756",
   "metadata": {},
   "outputs": [],
   "source": [
    "# Gender vs Spending Score\n",
    "sns.boxplot(data=df, x='Gender', y='Spending Score (1-100)')\n",
    "plt.title('Gender vs Spending Score')\n",
    "plt.show()"
   ]
  },
  {
   "cell_type": "markdown",
   "id": "d6988350-e823-4070-9de6-54008aee4ee8",
   "metadata": {},
   "source": [
    "#### Insight:\n",
    "Women tend to spend a little more than men and have slightly *higher median spending* scores in the mall"
   ]
  },
  {
   "cell_type": "code",
   "execution_count": null,
   "id": "c5c61018-5ff8-475c-9bc0-9fb8c4998ed6",
   "metadata": {},
   "outputs": [],
   "source": [
    "# Age Vs Spending Score\n",
    "sns.scatterplot(data=df, x='Age', y='Spending Score (1-100)', hue='Gender')\n",
    "plt.title('Age vs Spending Score')\n",
    "plt.show()"
   ]
  },
  {
   "cell_type": "markdown",
   "id": "abe33a8a-ef47-4902-ab96-18834c40262a",
   "metadata": {},
   "source": [
    "#### Insight:\n",
    "\n",
    " - Younger customers (20–35) typically show higher spending scores.\n",
    "\n",
    " - Spending declines gradually with age (perhaps due to lifestyle changes)."
   ]
  },
  {
   "cell_type": "code",
   "execution_count": null,
   "id": "07b39578-acde-4134-ae7b-6f201e3b93cf",
   "metadata": {},
   "outputs": [],
   "source": [
    "# Annual Income vs Spending Score\n",
    "sns.scatterplot(data=df, x='Annual Income (k$)', y='Spending Score (1-100)', hue='Gender')\n",
    "plt.title('Annual Income vs Spending Score')\n",
    "plt.show()"
   ]
  },
  {
   "cell_type": "markdown",
   "id": "9f956ed6-a702-4df2-8f92-292f192bed91",
   "metadata": {},
   "source": [
    "#### Insight:\n",
    "\n",
    " - Relationship is not linear.\n",
    "\n",
    " - Indicates spending habits are not solely income-driven — lifestyle and preference play a major role."
   ]
  },
  {
   "cell_type": "code",
   "execution_count": null,
   "id": "2bd7cbe1-d122-401b-8d41-532988a6e0d9",
   "metadata": {},
   "outputs": [],
   "source": [
    "sns.scatterplot(data=df, x='Age', y='Annual Income (k$)', hue='Gender')\n",
    "plt.title('Age vs Income')\n",
    "plt.show()"
   ]
  },
  {
   "cell_type": "markdown",
   "id": "f280a180-281e-4de9-baf5-36e1b35bc685",
   "metadata": {},
   "source": [
    "#### Insight:\n",
    "\n",
    "Income tends to peak around mid-30s to mid-40s."
   ]
  },
  {
   "cell_type": "markdown",
   "id": "9a047c9c-c3ee-4dc2-80cc-7409954887ad",
   "metadata": {},
   "source": [
    "-------"
   ]
  },
  {
   "cell_type": "markdown",
   "id": "c2fa74b6-dda0-4278-a408-2668d650302e",
   "metadata": {},
   "source": [
    "### Correlation Analysis"
   ]
  },
  {
   "cell_type": "code",
   "execution_count": null,
   "id": "a655da31-bb56-4adf-a91d-05b12aeeb0a7",
   "metadata": {},
   "outputs": [],
   "source": [
    "df.corr(numeric_only=True)\n",
    "sns.heatmap(df.corr(numeric_only=True), annot=True, cmap='coolwarm')\n",
    "plt.title('Correlation Heatmap')\n",
    "plt.show()"
   ]
  },
  {
   "cell_type": "markdown",
   "id": "7e7d7777-90f3-4549-9a25-dee163e7fbad",
   "metadata": {},
   "source": [
    "----------"
   ]
  },
  {
   "cell_type": "markdown",
   "id": "e14eface-da96-47b3-b0bf-2a17211b8cce",
   "metadata": {},
   "source": [
    "### Cluster Tendencies"
   ]
  },
  {
   "cell_type": "code",
   "execution_count": null,
   "id": "b5308179-5e7d-4ade-a0bb-724bf8c84aa7",
   "metadata": {},
   "outputs": [],
   "source": [
    "X = df[['Age', 'Annual Income (k$)', 'Spending Score (1-100)']]\n",
    "kmeans = KMeans(n_clusters=5, random_state=42)\n",
    "df['Cluster'] = kmeans.fit_predict(X)\n",
    "\n",
    "plt.figure(figsize=(8,6))\n",
    "sns.scatterplot(data=df, x='Annual Income (k$)', y='Spending Score (1-100)', hue='Cluster', palette='tab10')\n",
    "plt.title('Customer Segments')\n",
    "plt.show()"
   ]
  },
  {
   "cell_type": "markdown",
   "id": "4608c8f2-b645-4b9a-896e-b8e019564df1",
   "metadata": {},
   "source": [
    "#### Cluster Insights:\n",
    "\n",
    " - Low income, low spenders -- cost-conscious\n",
    "\n",
    " - High income, low spenders -- potential premium customers not fully engaged\n",
    "\n",
    " - High income, high spenders -- target luxury segment\n",
    "\n",
    " - Average income, Average spenders -- majority group, responsive to promotions\n",
    "\n",
    " - Low income, High spenders -- potential overspenders"
   ]
  },
  {
   "cell_type": "markdown",
   "id": "d0367954-7d3e-4a7c-8a9c-0818caf0d767",
   "metadata": {},
   "source": [
    "------------"
   ]
  },
  {
   "cell_type": "markdown",
   "id": "1acb3ac0-e94d-474b-bef8-8bea437483b8",
   "metadata": {},
   "source": [
    "## Predicting Spending Score using linear regression"
   ]
  },
  {
   "cell_type": "markdown",
   "id": "51e53099-7233-47f3-b916-724aa6150ed2",
   "metadata": {},
   "source": [
    "### Encode Gender numerically (since it’s categorical)"
   ]
  },
  {
   "cell_type": "code",
   "execution_count": null,
   "id": "3b68ea19-526c-49e8-9783-efaaa8e5937f",
   "metadata": {},
   "outputs": [],
   "source": [
    "# Encode Gender: Female = 0, Male = 1\n",
    "le = LabelEncoder()\n",
    "df['Gender'] = le.fit_transform(df['Gender'])"
   ]
  },
  {
   "cell_type": "code",
   "execution_count": null,
   "id": "490f8b20-55da-4c5c-84c6-da4292c18fdf",
   "metadata": {},
   "outputs": [],
   "source": [
    "# Define features (X) and target (y\n",
    "X = df[['Gender', 'Age', 'Annual Income (k$)']]\n",
    "y = df['Spending Score (1-100)']"
   ]
  },
  {
   "cell_type": "code",
   "execution_count": null,
   "id": "4596581d-dc2d-4d02-b494-b06c2df16fbf",
   "metadata": {},
   "outputs": [],
   "source": [
    "# Split into training and test sets\n",
    "X_train, X_test, y_train, y_test = train_test_split(X, y, test_size=0.2, random_state=42)"
   ]
  },
  {
   "cell_type": "markdown",
   "id": "0bf66be7-815e-442b-8951-00f2f1c38a2f",
   "metadata": {},
   "source": [
    "### Build and Train Linear Regression Model"
   ]
  },
  {
   "cell_type": "code",
   "execution_count": null,
   "id": "826a8f81-0e55-46f2-9404-69aca5850068",
   "metadata": {},
   "outputs": [],
   "source": [
    "model = LinearRegression()\n",
    "model.fit(X_train, y_train)"
   ]
  },
  {
   "cell_type": "code",
   "execution_count": null,
   "id": "e3e9f536-189f-4341-a41c-c3aaa654866a",
   "metadata": {},
   "outputs": [],
   "source": [
    "coeff_df = pd.DataFrame(model.coef_, X.columns, columns=['Coefficient'])\n",
    "print(coeff_df)\n",
    "print(\"Intercept:\", model.intercept_)"
   ]
  },
  {
   "cell_type": "markdown",
   "id": "7cd90770-0fe2-4e7a-9d04-61ead2305858",
   "metadata": {},
   "source": [
    "#### This shows how each variable influences the Spending Score linearly."
   ]
  },
  {
   "cell_type": "markdown",
   "id": "be73c1bb-3f47-4ecc-9214-13186889b652",
   "metadata": {},
   "source": [
    "### Make Predictions"
   ]
  },
  {
   "cell_type": "code",
   "execution_count": null,
   "id": "5e04bacb-b126-4abf-b7d3-f9863ac58b1e",
   "metadata": {},
   "outputs": [],
   "source": [
    "y_pred = model.predict(X_test)"
   ]
  },
  {
   "cell_type": "markdown",
   "id": "265dd144-1638-4913-bd29-1a02a166be70",
   "metadata": {},
   "source": [
    "### Evaluate Model Performance"
   ]
  },
  {
   "cell_type": "code",
   "execution_count": null,
   "id": "7ca550cf-2de2-4b7a-b6e0-eefa98b028b6",
   "metadata": {},
   "outputs": [],
   "source": [
    "r2 = r2_score(y_test, y_pred)\n",
    "mae = mean_absolute_error(y_test, y_pred)\n",
    "rmse = np.sqrt(mean_squared_error(y_test, y_pred))\n",
    "\n",
    "print(f\"R² Score: {r2:.3f}\")\n",
    "print(f\"Mean Absolute Error (MAE): {mae:.3f}\")\n",
    "print(f\"Root Mean Squared Error (RMSE): {rmse:.3f}\")"
   ]
  },
  {
   "cell_type": "markdown",
   "id": "2fc8cad3-5a42-4c71-9f81-5fa6386526d4",
   "metadata": {},
   "source": [
    "| Metric       | Value                            | Interpretation                                          |\n",
    "| ------------ | -------------------------------- | ------------------------------------------------------- |\n",
    "| **R² Score** | 0.025                            | Model explains 2.5% of the variance in spending score |\n",
    "| **MAE**      | 18.151                           | Average prediction error is ±18 points                  |\n",
    "| **RMSE**     | 21.924                           | Typical deviation from actual spending score            |\n"
   ]
  },
  {
   "cell_type": "markdown",
   "id": "14181253-b600-46fb-9c43-59eb82dce96f",
   "metadata": {},
   "source": [
    "💡 Interpretation:\n",
    "Linear Regression captures only limited variance because Spending Score is influenced by behavioral factors not captured in Age, Gender, or Income alone.\n",
    "Still, it provides a baseline for comparison with more complex models (like Decision Tree or Random Forest)."
   ]
  },
  {
   "cell_type": "markdown",
   "id": "56ca1030-bcd9-4f36-bd4e-0e1c4dea1f60",
   "metadata": {},
   "source": [
    "-----"
   ]
  },
  {
   "cell_type": "markdown",
   "id": "1322e56b-6a5c-4d55-9818-f30caedd5690",
   "metadata": {},
   "source": [
    "### Visualize Predictions vs Actual"
   ]
  },
  {
   "cell_type": "code",
   "execution_count": null,
   "id": "60ecee00-0eeb-47d7-8290-49b88a0900cf",
   "metadata": {},
   "outputs": [],
   "source": [
    "plt.figure(figsize=(6,6))\n",
    "sns.scatterplot(x=y_test, y=y_pred)\n",
    "plt.xlabel(\"Actual Spending Score\")\n",
    "plt.ylabel(\"Predicted Spending Score\")\n",
    "plt.title(\"Actual vs Predicted Spending Score\")\n",
    "plt.plot([0,100],[0,100],'r--')\n",
    "plt.show()"
   ]
  },
  {
   "cell_type": "markdown",
   "id": "83c5e214-5eb6-4a68-ab4a-37fa451f5bec",
   "metadata": {},
   "source": [
    "#### If the points align closely with the red dashed line, the model fits well."
   ]
  },
  {
   "cell_type": "markdown",
   "id": "865e4087-677c-4d75-9b59-f3d1b0a57ce5",
   "metadata": {},
   "source": [
    "----"
   ]
  },
  {
   "cell_type": "markdown",
   "id": "675edf34-619f-4806-a335-3e5bec7e0f0e",
   "metadata": {},
   "source": [
    "### Check Feature Influence"
   ]
  },
  {
   "cell_type": "code",
   "execution_count": null,
   "id": "7736fc8f-4aca-4082-acd3-82a92974aa3d",
   "metadata": {},
   "outputs": [],
   "source": [
    "sns.barplot(x=coeff_df.index, y=coeff_df['Coefficient'])\n",
    "plt.title('Feature Influence on Spending Score')\n",
    "plt.show()"
   ]
  },
  {
   "cell_type": "markdown",
   "id": "425d7764-f728-45ab-ae95-2a373e1debe2",
   "metadata": {},
   "source": [
    "#### Interpretation:\n",
    "\n",
    " - Positive coefficient → increases spending score\n",
    "\n",
    " - Negative coefficient → decreases spending score"
   ]
  },
  {
   "cell_type": "markdown",
   "id": "8812400d-2148-41be-a460-88cb4eb01780",
   "metadata": {},
   "source": [
    "--------"
   ]
  },
  {
   "cell_type": "markdown",
   "id": "70be94aa-edc1-4166-84fd-54d14727763b",
   "metadata": {},
   "source": [
    "### Linear Regression Summary Insight\n",
    "\n",
    "Age and income have weak linear effects on spending score, while gender shows a small but noticeable difference. Customers’ spending behavior likely depends on additional psychological or lifestyle factors not captured here."
   ]
  },
  {
   "cell_type": "markdown",
   "id": "fd407233-ec4c-4d1f-9b0e-7f56eb3442b5",
   "metadata": {},
   "source": [
    "------"
   ]
  },
  {
   "cell_type": "markdown",
   "id": "0ecf9390-828f-43b3-85d2-11eb2e905529",
   "metadata": {},
   "source": [
    "## Segment mall customers into groups with similar spending and income patterns using clustering techniques:\n",
    "\n",
    " - K-Means Clustering\n",
    "\n",
    " - Hierarchical Clustering"
   ]
  },
  {
   "cell_type": "code",
   "execution_count": null,
   "id": "860c500c-4ec3-4f00-b2a4-46888e2c6da3",
   "metadata": {},
   "outputs": [],
   "source": [
    "# Focus on Annual Income (k$) and Spending Score (1–100) — these are most indicative of customer behavior\n",
    "X = df[['Annual Income (k$)', 'Spending Score (1-100)']]\n",
    "scaler = StandardScaler()\n",
    "X_scaled = scaler.fit_transform(X)"
   ]
  },
  {
   "cell_type": "markdown",
   "id": "93f6ea74-645f-4009-b4e9-4f5017d35ecb",
   "metadata": {},
   "source": [
    "#### Determine Optimal Clusters (Elbow Method)"
   ]
  },
  {
   "cell_type": "code",
   "execution_count": null,
   "id": "539f29bf-b235-47f4-9640-dd88d5642dd7",
   "metadata": {},
   "outputs": [],
   "source": [
    "wcss = []\n",
    "for i in range(1, 11):\n",
    "    kmeans = KMeans(n_clusters=i, init='k-means++', random_state=42)\n",
    "    kmeans.fit(X_scaled)\n",
    "    wcss.append(kmeans.inertia_)\n",
    "\n",
    "plt.plot(range(1, 11), wcss, marker='o')\n",
    "plt.title('Elbow Method for Optimal k')\n",
    "plt.xlabel('Number of Clusters')\n",
    "plt.ylabel('WCSS')\n",
    "plt.show()\n"
   ]
  },
  {
   "cell_type": "markdown",
   "id": "43c788f2-b65d-44de-b789-0e8f612a7ec1",
   "metadata": {},
   "source": [
    "#### Interpretation\n",
    "Look for the “elbow point” (usually k = 5) where the curve starts to flatten - that’s the optimal number of clusters."
   ]
  },
  {
   "cell_type": "markdown",
   "id": "6e5e2b76-02c1-47f2-bafe-82ec6aee2fe4",
   "metadata": {},
   "source": [
    "### K-Means Clustering"
   ]
  },
  {
   "cell_type": "code",
   "execution_count": null,
   "id": "4b299288-474d-474b-8fbe-778637317c40",
   "metadata": {},
   "outputs": [],
   "source": [
    "kmeans = KMeans(n_clusters=5, init='k-means++', random_state=42)\n",
    "df['KMeans_Cluster'] = kmeans.fit_predict(X_scaled)"
   ]
  },
  {
   "cell_type": "markdown",
   "id": "88dfdb34-93a7-434f-ba3e-02feb9b2fdb6",
   "metadata": {},
   "source": [
    "#### Visualize clusters"
   ]
  },
  {
   "cell_type": "code",
   "execution_count": null,
   "id": "7e41de0f-868b-48c0-a0f8-a906a9b0e159",
   "metadata": {},
   "outputs": [],
   "source": [
    "plt.figure(figsize=(8,6))\n",
    "sns.scatterplot(data=df, x='Annual Income (k$)', y='Spending Score (1-100)',\n",
    "                hue='KMeans_Cluster', palette='tab10', s=80)\n",
    "plt.title('Customer Segments (K-Means)')\n",
    "plt.legend(title='Cluster')\n",
    "plt.show()"
   ]
  },
  {
   "cell_type": "code",
   "execution_count": null,
   "id": "1de95511-30d3-475c-b334-416d1b203cfc",
   "metadata": {},
   "outputs": [],
   "source": [
    "score = silhouette_score(X_scaled, df['KMeans_Cluster'])\n",
    "print(f'Silhouette Score for K-Means: {score:.3f}')"
   ]
  },
  {
   "cell_type": "markdown",
   "id": "98779685-2a20-41a6-8caf-92754a7dcb57",
   "metadata": {},
   "source": [
    "#### Interpretation:\n",
    "\n",
    "Silhouette score ranges from -1 to +1\n",
    "\n",
    "Values > 0.5 indicate good, well-separated clusters"
   ]
  },
  {
   "cell_type": "markdown",
   "id": "bdcd9803-41c2-477e-ab95-e2122fc70268",
   "metadata": {},
   "source": [
    "### Hierarchical Clustering"
   ]
  },
  {
   "cell_type": "markdown",
   "id": "c7f4c40c-70f0-4d27-b099-47ca386f1dbd",
   "metadata": {},
   "source": [
    "#### a. Dendrogram (for deciding cluster number)"
   ]
  },
  {
   "cell_type": "code",
   "execution_count": null,
   "id": "2063bc90-27e6-46be-885e-941eb74127b4",
   "metadata": {},
   "outputs": [],
   "source": [
    "plt.figure(figsize=(10,6))\n",
    "dendrogram = sch.dendrogram(sch.linkage(X_scaled, method='ward'))\n",
    "plt.title('Customer Dendrogram')\n",
    "plt.xlabel('Customers')\n",
    "plt.ylabel('Euclidean Distance')\n",
    "plt.show()"
   ]
  },
  {
   "cell_type": "markdown",
   "id": "2dc73590-288d-4b2f-b9d4-3c9c6188aaed",
   "metadata": {},
   "source": [
    "#### Interpretation:\n",
    "Look for the largest vertical gap without crossing a horizontal line — typically around 5 clusters."
   ]
  },
  {
   "cell_type": "markdown",
   "id": "5460e92f-a5e6-40d9-b58d-e1e723136a2d",
   "metadata": {},
   "source": [
    "#### b. Fit Agglomerative Clustering"
   ]
  },
  {
   "cell_type": "code",
   "execution_count": null,
   "id": "d8a67b3b-1354-49d2-b475-cd3da411ebbe",
   "metadata": {},
   "outputs": [],
   "source": [
    "hc = AgglomerativeClustering(n_clusters=5, affinity='euclidean', linkage='ward')\n",
    "df['HC_Cluster'] = hc.fit_predict(X_scaled)"
   ]
  },
  {
   "cell_type": "markdown",
   "id": "a8e66b48-518a-4061-baa9-a3a25551f273",
   "metadata": {},
   "source": [
    "#### c. Visualize Clusters"
   ]
  },
  {
   "cell_type": "code",
   "execution_count": null,
   "id": "a0af8fc0-2177-4e79-8d4f-87cb84566d6e",
   "metadata": {},
   "outputs": [],
   "source": [
    "plt.figure(figsize=(8,6))\n",
    "sns.scatterplot(data=df, x='Annual Income (k$)', y='Spending Score (1-100)',\n",
    "                hue='HC_Cluster', palette='tab10', s=80)\n",
    "plt.title('Customer Segments (Hierarchical Clustering)')\n",
    "plt.legend(title='Cluster')\n",
    "plt.show()"
   ]
  },
  {
   "cell_type": "markdown",
   "id": "53fa3439-85c8-4815-9f1f-de695dba048b",
   "metadata": {},
   "source": [
    "#### Evaluate Hierarchical Clustering"
   ]
  },
  {
   "cell_type": "code",
   "execution_count": null,
   "id": "ec5850f4-48c4-4f04-9a7a-7aeb483404b5",
   "metadata": {},
   "outputs": [],
   "source": [
    "hc_score = silhouette_score(X_scaled, df['HC_Cluster'])\n",
    "print(f'Silhouette Score for Hierarchical Clustering: {hc_score:.3f}')"
   ]
  },
  {
   "cell_type": "markdown",
   "id": "e107cedd-31df-473a-a491-7e6715ce7c02",
   "metadata": {},
   "source": [
    "### Principal Component Analysis (PCA) for Visualization\n",
    "#### To visualize multi-feature relationships, let’s add Age and Gender."
   ]
  },
  {
   "cell_type": "code",
   "execution_count": null,
   "id": "124d8b9a-eaed-4a8f-8cdc-c566e3a71ae6",
   "metadata": {},
   "outputs": [],
   "source": [
    "# Encode Gender\n",
    "le = LabelEncoder()\n",
    "df['Gender'] = le.fit_transform(df['Gender'])\n",
    "\n",
    "# Include additional features for PCA\n",
    "features = ['Gender', 'Age', 'Annual Income (k$)', 'Spending Score (1-100)']\n",
    "X_full = df[features]\n",
    "X_full_scaled = scaler.fit_transform(X_full)\n",
    "\n",
    "# Apply PCA\n",
    "pca = PCA(n_components=2)\n",
    "pca_components = pca.fit_transform(X_full_scaled)\n",
    "\n",
    "df['PCA1'] = pca_components[:, 0]\n",
    "df['PCA2'] = pca_components[:, 1]"
   ]
  },
  {
   "cell_type": "markdown",
   "id": "e6a0fec9-736e-4e6a-850e-7f72557c3ceb",
   "metadata": {},
   "source": [
    "#### Visualize PCA-reduced Clusters"
   ]
  },
  {
   "cell_type": "code",
   "execution_count": null,
   "id": "40d51243-ed1f-488e-8f24-aae4bfb2dff1",
   "metadata": {},
   "outputs": [],
   "source": [
    "plt.figure(figsize=(8,6))\n",
    "sns.scatterplot(data=df, x='PCA1', y='PCA2', hue='KMeans_Cluster', palette='tab10', s=80)\n",
    "plt.title('PCA Visualization of Customer Segments (K-Means)')\n",
    "plt.legend(title='Cluster')\n",
    "plt.show()"
   ]
  },
  {
   "cell_type": "markdown",
   "id": "7bec7777-2a8d-4609-8200-8ba85322b435",
   "metadata": {},
   "source": [
    "### Cluster Interpretation"
   ]
  },
  {
   "cell_type": "markdown",
   "id": "4692a81c-f6b3-4416-a64d-357348307d2c",
   "metadata": {},
   "source": [
    "| Cluster | Income Level  | Spending Behavior | Typical Segment                        |\n",
    "| ------- | ------------- | ----------------- | -------------------------------------- |\n",
    "| 0       | Low Income    | Low Spending      | Budget-conscious customers             |\n",
    "| 1       | High Income   | High Spending     | Premium / Luxury shoppers              |\n",
    "| 2       | High Income   | Low Spending      | High Potential(Not spending much yet)  |\n",
    "| 3       | Medium Income | Medium Spending   | Average Customers                      |\n",
    "| 4       | Low Income    | High Spending     | Impulsive or deal-seeking shoppers     |\n"
   ]
  },
  {
   "cell_type": "markdown",
   "id": "0bb46220-a683-4e7a-abda-7531fa665e05",
   "metadata": {},
   "source": [
    "### Results Summary"
   ]
  },
  {
   "cell_type": "markdown",
   "id": "14757d2a-0f99-4d51-b493-79108efa7757",
   "metadata": {},
   "source": [
    "| Method           | No. of Clusters | Silhouette Score | Interpretation                        |\n",
    "| ---------------- | --------------- | ---------------- | ------------------------------------- |\n",
    "| **K-Means**      | 5               | ~0.558            | Good compact clusters                 |\n",
    "| **Hierarchical** | 5               | ~0.554            | Slightly less distinct but consistent |\n"
   ]
  },
  {
   "cell_type": "markdown",
   "id": "eb67c7d0-6f67-4ab7-9e83-221668ab54f6",
   "metadata": {},
   "source": [
    "✅ Conclusion\n",
    "\n",
    "Optimal clusters: 5\n",
    "\n",
    "Best method: K-Means (higher silhouette score, clear separation)\n",
    "\n",
    "Insights:\n",
    "\n",
    "Income and spending are not linearly correlated — some low-income shoppers spend high.\n",
    "\n",
    "The high-income, high-spending cluster is your most valuable segment.\n",
    "\n",
    "The high-income, low-spending cluster is an opportunity for targeted marketing."
   ]
  },
  {
   "cell_type": "code",
   "execution_count": null,
   "id": "ec4586d1-0193-43d6-8fea-a46503d7b563",
   "metadata": {},
   "outputs": [],
   "source": []
  }
 ],
 "metadata": {
  "kernelspec": {
   "display_name": "Python 3 (ipykernel)",
   "language": "python",
   "name": "python3"
  },
  "language_info": {
   "codemirror_mode": {
    "name": "ipython",
    "version": 3
   },
   "file_extension": ".py",
   "mimetype": "text/x-python",
   "name": "python",
   "nbconvert_exporter": "python",
   "pygments_lexer": "ipython3",
   "version": "3.11.7"
  }
 },
 "nbformat": 4,
 "nbformat_minor": 5
}
